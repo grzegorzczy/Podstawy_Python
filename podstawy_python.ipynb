{
 "cells": [
  {
   "cell_type": "markdown",
   "id": "cfd2aab7",
   "metadata": {},
   "source": [
    "# Kurs python"
   ]
  },
  {
   "cell_type": "markdown",
   "id": "9d82794c",
   "metadata": {},
   "source": [
    "### Podstawy: wejścia, printowanie"
   ]
  },
  {
   "cell_type": "code",
   "execution_count": null,
   "id": "32cfa9c7",
   "metadata": {},
   "outputs": [],
   "source": [
    "name = input(\"Jak masz na imie\")\n",
    "print (\"Cześć \" + name + \"!\")\n",
    "\n",
    "# Zadanie\n",
    "#Rozwniń poniższy program, pytający użytkownika o imię, naziwkso i wiek, wyświetlajać w następujący sposób:\n",
    "#Imię: Grzgeorz\n",
    "#Nazwisko: Czyrniański\n",
    "#Wiek: 24\n",
    "\n",
    "#Zaleceane wypisywanie tego z użyciem f-stringów\n",
    "surname = str(input(\"Jak masz na nazwisko\"))\n",
    "age = int(input(\"Ile masz lat\"))\n",
    "print (f\"Imię: {name}\")\n",
    "print (f\"Nazwisko: {surname}\")\n",
    "print (f\"Wiek: {age}\")\n",
    "\n",
    "#Alternatywne sposoby wypisywania\n",
    "print(\"Nazwisko: \" + surname)\n",
    "print(\"Imie: \" + name )\n",
    "print(\"Wiek: \" + str(age))\n",
    "print(\"Wiek: \", age)\n",
    "\n",
    "# Jeszcze raz dla ćwiczenia\n",
    "name = input(\"Jak masz na imie\")\n",
    "print(\"Cześć \" + name + \"!\")\n",
    "\n",
    "wiek = input(\"Ile masz lat\")\n",
    "print(f\"Masz: {wiek}\")\n",
    "\n",
    "surname = input(\"Jak masz na nazwisko\")\n",
    "print(f\"Nazwisko: {surname}, miło mi\")\n"
   ]
  },
  {
   "cell_type": "markdown",
   "id": "e84c5e83",
   "metadata": {},
   "source": [
    "### Operacje liczbowe"
   ]
  },
  {
   "cell_type": "code",
   "execution_count": 7,
   "id": "0a31b97d",
   "metadata": {},
   "outputs": [
    {
     "name": "stdout",
     "output_type": "stream",
     "text": [
      "7\n",
      "3\n",
      "10\n",
      "2.5\n",
      "2\n",
      "1\n",
      "25\n",
      "6.5\n",
      "-1.5\n",
      "10.0\n",
      "0.625\n",
      "0.0\n",
      "2.5\n",
      "39.0625\n"
     ]
    }
   ],
   "source": [
    "\n",
    "a = 5\n",
    "b = 2\n",
    "print(a + b) # dodawanie\n",
    "print(a - b) # odejmowanie\n",
    "print(a * b)    # mnożenie  \n",
    "print(a / b)  # dzielenie\n",
    "print(a // b) # dzielenie całkowite\n",
    "print(a % b)  # reszta z dzielenia\n",
    "print(a ** b) # potęgowanie\n",
    "\n",
    "# Operacje na liczbach zmiennoprzecinkowych (float)\n",
    "c = 2.5\n",
    "d = 4.0\n",
    "print(c + d)\n",
    "print(c - d)\n",
    "print(c * d)\n",
    "print(c / d)\n",
    "print(c // d)\n",
    "print(c % d)\n",
    "print(c ** d)\n",
    "\n",
    "# Inkrementacja i dekrementacja\n",
    "a += 1\n",
    "a -= 1\n"
   ]
  },
  {
   "cell_type": "markdown",
   "id": "c26f2d52",
   "metadata": {},
   "source": [
    "### Operacje typu Boolean"
   ]
  },
  {
   "cell_type": "code",
   "execution_count": 1,
   "id": "90757c82",
   "metadata": {},
   "outputs": [
    {
     "name": "stdout",
     "output_type": "stream",
     "text": [
      "True\n",
      "False\n"
     ]
    }
   ],
   "source": [
    "isSkyBlue = True\n",
    "isPythonDifficult = False\n",
    "\n",
    "print(isSkyBlue)\n",
    "print(isPythonDifficult)\n"
   ]
  },
  {
   "cell_type": "markdown",
   "id": "f8e038b9",
   "metadata": {},
   "source": [
    "### Operatory porównania"
   ]
  },
  {
   "cell_type": "code",
   "execution_count": 6,
   "id": "f80ab654",
   "metadata": {},
   "outputs": [
    {
     "name": "stdout",
     "output_type": "stream",
     "text": [
      "False\n",
      "True\n",
      "False\n",
      "True\n",
      "False\n",
      "True\n"
     ]
    }
   ],
   "source": [
    "# nie mozemy dac a=b bo to jest przypisanie a nie porównanie\n",
    "a = 2\n",
    "b = 10\n",
    "print(a == b)  # równe\n",
    "print(a != b)  # różne\n",
    "print(a > b)   # większe\n",
    "print(a < b)   # mniejsze\n",
    "print(a >= b)  # większe lub równe\n",
    "print(a <= b)  # mniejsze lub równe\n"
   ]
  },
  {
   "cell_type": "markdown",
   "id": "09cd25e0",
   "metadata": {},
   "source": [
    "### Operatory logiczne"
   ]
  },
  {
   "cell_type": "code",
   "execution_count": 5,
   "id": "95793018",
   "metadata": {},
   "outputs": [
    {
     "name": "stdout",
     "output_type": "stream",
     "text": [
      "False\n",
      "True\n",
      "False\n",
      "True\n",
      "False\n",
      "True\n",
      "True\n",
      "True\n",
      "False\n",
      "Użytkownik nie jest zalogowany\n"
     ]
    }
   ],
   "source": [
    "isSkyBlue = True\n",
    "isPythonDifficult = False\n",
    "\n",
    "print(isSkyBlue and isPythonDifficult) # oba warunki muszą być prawdziwe\n",
    "print(isSkyBlue or isPythonDifficult)  # przynajmniej jeden warunek musi być prawdziwy\n",
    "print(not isSkyBlue)  # negacja, zmienia wartość logiczną na przeciwną\n",
    "\n",
    "a = 5\n",
    "b = 2\n",
    "\n",
    "print(a > b and b > 0)  # oba warunki muszą być prawdziwe\n",
    "print(a > b and b > 3)  # oba warunki muszą być prawdziwe\n",
    "print(a > 10 or b > 0)  # przynajmniej jeden warunek musi być prawdziwy\n",
    "print(a > 10 or (b > 0 and a > b))\n",
    "\n",
    "c = 4\n",
    "print(c % 2 == 0) # Zwraca True jeśli c jest liczbą parzystą, zwraca False jeśli nie jest\n",
    "\n",
    "#negacja\n",
    "print(not c % 2 == 0) # Zwraca True jeśli c jest liczbą nieparzystą, zwraca False jeśli nie jest\n",
    "\n",
    "user_logged_in = False\n",
    "\n",
    "if user_logged_in:\n",
    "    print(\"Użytkownik zalogowany\")\n",
    "\n",
    "if not user_logged_in:\n",
    "    print(\"Użytkownik nie jest zalogowany\")\n",
    "\n"
   ]
  },
  {
   "cell_type": "markdown",
   "id": "f1b872fd",
   "metadata": {},
   "source": [
    "### Różne spoosby tworzenia stringów"
   ]
  },
  {
   "cell_type": "code",
   "execution_count": 4,
   "id": "db467fde",
   "metadata": {},
   "outputs": [
    {
     "name": "stdout",
     "output_type": "stream",
     "text": [
      "Grzegorz\n",
      "Kamil's channel\n",
      "Czyrniański\n",
      "Jak nauczyć się programowania\n",
      "Bardz lubię kanał Jak nauczyć się programowania\n",
      "To jest długi \n",
      "tekst, który rozciąga się\n",
      "na wiele linii.\n",
      "Bardzo lubię kanał Jak nauczyć się programowania\n"
     ]
    }
   ],
   "source": [
    "name = 'Grzegorz'\n",
    "name2 = 'Kamil\\'s channel'\n",
    "last_name = 'Czyrniański'\n",
    "channel_name = 'Jak nauczyć się programowania'\n",
    "text = \"Bardz lubię kanał Jak nauczyć się programowania\"\n",
    "long_text = '''To jest długi \n",
    "tekst, który rozciąga się\n",
    "na wiele linii.''' #trzy pojedyncze cudzysłowy pozwalają na tworzenie wielolinijkowych stringów\n",
    "text2 = f\"Bardzo lubię kanał {channel_name}\" #f-string pozwala na wstawianie zmiennych do stringów interpolacja strina\n",
    "\n",
    "\n",
    "\n",
    "print(name)\n",
    "print(name2)\n",
    "print(last_name)\n",
    "print(channel_name)\n",
    "print(text)\n",
    "print(long_text)\n",
    "print(text2)\n",
    "\n",
    "\n"
   ]
  },
  {
   "cell_type": "markdown",
   "id": "d1907530",
   "metadata": {},
   "source": [
    "### Strings Metody"
   ]
  },
  {
   "cell_type": "code",
   "execution_count": 3,
   "id": "bf002fe8",
   "metadata": {},
   "outputs": [
    {
     "name": "stdout",
     "output_type": "stream",
     "text": [
      "Jak nauczyć się programowania\n",
      "JAK NAUCZYĆ SIĘ PROGRAMOWANIA\n",
      "jak nauczyć się programowania\n",
      "Jak Nauczyć Się Programowania\n",
      "Jak nauczyć się programowania\n",
      "True\n",
      "True\n",
      "False\n",
      "Jak nauczyć się programowania\n",
      "Gdzie nauczyć się programowania\n",
      "12\n",
      "29\n",
      "5\n",
      "['Jak', 'nauczyć', 'się', 'programowania']\n"
     ]
    }
   ],
   "source": [
    "'''Metody to nic innego jak funkcje, ale funkcje które są przypisane do klasy i możemy je wywoływać na obiektach tej klasy.'''\n",
    "\n",
    "channel_name = 'Jak nauczyć się programowania'\n",
    "print(channel_name)\n",
    "print(channel_name.upper()) #metoda upper() zamienia wszystkie litery na wielkie\n",
    "print(channel_name.lower()) #metoda lower() zamienia wszystkie litery na małe\n",
    "print(channel_name.title()) #metoda title() zamienia pierwszą literę każdego słowa na wielką\n",
    "print(channel_name.strip()) #metoda strip() usuwa białe znaki z początku i końca stringa\n",
    "print(channel_name.startswith(\"J\")) #metoda startswith() sprawdza czy string zaczyna się od podanego ciągu znaków, zwraca True lub False\n",
    "print(channel_name.endswith(\"a\")) #metoda endswith() sprawdza czy string kończy się na podany ciąg znaków, zwraca True lub False\n",
    "print(channel_name.upper().startswith(\"j\")) #możemy łączyć metody\n",
    "print(channel_name.capitalize()) #metoda capitalize() zamienia pierwszą literę pierwszego słowa na wielką, a resztę na małe\n",
    "print(channel_name.replace(\"Jak\", \"Gdzie\")) #metoda replace() zamienia jedno\n",
    "print(channel_name.find(\"się\")) #metoda find() zwraca indeks pierwszego wystąpienia podanego ciągu znaków, jeśli nie znajdzie to zwraca -1\n",
    "print(len(channel_name)) #metoda len() zwraca długość stringa\n",
    "print(channel_name.count(\"a\")) #metoda count() zwraca ilość wystąpień podanego ciągu znaków\n",
    "print(channel_name.split(\" \")) #metoda split() dzieli string na listę podstringów na podstawie podanego separatora\n",
    "\n",
    "\n"
   ]
  },
  {
   "cell_type": "markdown",
   "id": "f2bd3a9c",
   "metadata": {},
   "source": [
    "### String slicing"
   ]
  },
  {
   "cell_type": "code",
   "execution_count": 2,
   "id": "c14579e2",
   "metadata": {},
   "outputs": [
    {
     "name": "stdout",
     "output_type": "stream",
     "text": [
      "Pro\n",
      "ro\n",
      "rogramuj od podstaw\n",
      "P\n",
      "rogramuj od podsta\n",
      "w\n"
     ]
    }
   ],
   "source": [
    "text = 'Programuj od podstaw'\n",
    "\n",
    "print(text[0:3])  # 'Pro' - znaki od indeksu 0 do 2\n",
    "print(text[1:3])    # 'ro' - znaki od indeksu 1 do 2\n",
    "print(text[1:])  # 'rogramuj od podstaw' - od znaku o indeksie 1 do końca\n",
    "print(text[:1]) # 'Programuj od podstaw' - cały string\n",
    "print(text[1:-1]) # 'rogramuj od podsta' - od znaku o indeksie 1 do przedostatniego\n",
    "print(text[-1:])    # 'w' - ostatni znak"
   ]
  },
  {
   "cell_type": "markdown",
   "id": "ab96014c",
   "metadata": {},
   "source": [
    "### Język dynamicznie - silnie - typowany\n",
    "#### jest dynamiczny dlatego python samo sobie dobiera typy zmiennych"
   ]
  },
  {
   "cell_type": "code",
   "execution_count": null,
   "id": "94e1a0d3",
   "metadata": {},
   "outputs": [
    {
     "name": "stdout",
     "output_type": "stream",
     "text": [
      "5\n",
      "3Kamil\n",
      "5\n",
      "<class 'int'>\n",
      "<class 'int'>\n",
      "<class 'str'>\n"
     ]
    }
   ],
   "source": [
    "def add(a,b): #  #definicja funkcji add z dwoma parametrami a i b\n",
    "    print(a + b)\n",
    "\n",
    "a = 2 #\n",
    "b = 3 # przypisanie wartości do zmiennych a i b\n",
    "\n",
    "add(a,b) # wywołanie funkcji add z argumentami a i b\n",
    "\n",
    "c = 3\n",
    "d = 'Kamil'\n",
    "print(str(c) + d) # konwersja c na string i konkatenacja z d\n",
    "\n",
    "e = 3\n",
    "f =  '2'\n",
    "\n",
    "print(e + int(f)) # konwersja f na int i dodanie do e\n",
    "print(type(e)) # sprawdzenie typu zmiennej e\n",
    "\n",
    "# nie ma porblemu z redeklaracją zmiennych w pythonie\n",
    "g = 2\n",
    "print(type(g)) # sprawdzenie typu zmiennej g\n",
    "g = 'Kamil'\n",
    "print(type(g)) # sprawdzenie typu zmiennej g po zmianie wartości\n",
    "\n"
   ]
  },
  {
   "cell_type": "markdown",
   "id": "df3dbeea",
   "metadata": {},
   "source": [
    "### Intrukcje warunkowe"
   ]
  },
  {
   "cell_type": "code",
   "execution_count": null,
   "id": "81a7c915",
   "metadata": {},
   "outputs": [
    {
     "name": "stdout",
     "output_type": "stream",
     "text": [
      "Nie jesteś pełnoletni.\n",
      "Uważaj, zaraz będzie czerwone.\n"
     ]
    }
   ],
   "source": [
    "age = int(input(\"Ile masz lat? \"))  # input zwraca string\n",
    "\n",
    "if  age >= 18:\n",
    "    print(\"Jesteś pełnoletni.\")\n",
    "else:\n",
    "    print(\"Nie jesteś pełnoletni.\")\n",
    "\n",
    "light = input((\"Jakie jest światło (zielone, żólte, czerwone)\"))\n",
    "\n",
    "if light == \"zielone\":\n",
    "    print(\"Możesz przejść przez ulicę.\")\n",
    "elif light == \"żółte\":\n",
    "    print(\"Przygotuj się.\")\n",
    "elif light == \"czerwone\":\n",
    "    print(\"Nie przechodź przez ulicę.\")\n",
    "else:\n",
    "    print(\"Nieprawidłowy kolor światła.\")\n"
   ]
  },
  {
   "cell_type": "markdown",
   "id": "7db8a9ef",
   "metadata": {},
   "source": [
    "### MATCH, CASE"
   ]
  },
  {
   "cell_type": "code",
   "execution_count": null,
   "id": "88c5b04e",
   "metadata": {},
   "outputs": [],
   "source": [
    "light = input((\"Jakie jest światło (zielone, żólte, czerwone)\"))\n",
    "\n",
    "match light: #sprawdzamy wartość zmiennej light\n",
    "    case \"zielone\": # w przypadku gdy light równa się \"zielone\"\n",
    "        print(\"Możesz przejść przez ulicę.\")\n",
    "    case \"żółte\":  # w przypadku gdy light równa się \"żółte\"\n",
    "        print(\"Przygotuj się.\")\n",
    "    case \"czerwone\": # w przypadku gdy light równa się \"czerwone\"\n",
    "        print(\"Nie przechodź przez ulicę.\")\n",
    "    case _:\n",
    "        print(\"Nieprawidłowy kolor światła.\")\n"
   ]
  },
  {
   "cell_type": "markdown",
   "id": "7265a074",
   "metadata": {},
   "source": [
    "### PĘTLA WHILE"
   ]
  },
  {
   "cell_type": "code",
   "execution_count": null,
   "id": "7a098b6d",
   "metadata": {},
   "outputs": [
    {
     "name": "stdout",
     "output_type": "stream",
     "text": [
      "1\n",
      "2\n",
      "3\n",
      "4\n",
      "Witaj, Kamil!\n"
     ]
    }
   ],
   "source": [
    "## jest to taka pętla, która wykonuje się dopóki warunek jest spełniony\n",
    "\n",
    "i = 1\n",
    "\n",
    "while i < 5:\n",
    "    print(i)\n",
    "    i += 1\n",
    "\n",
    "## Dopóki imie jest różne od Kamil do wchodzimy do pętli\n",
    "name = None\n",
    "while name != 'Kamil':\n",
    "    name = input(\"Podaj imię: \")\n",
    "\n",
    "print(\"Witaj, Kamil!\")"
   ]
  },
  {
   "cell_type": "markdown",
   "id": "a102fed9",
   "metadata": {},
   "source": [
    "### Pętla FOR"
   ]
  },
  {
   "cell_type": "code",
   "execution_count": null,
   "id": "848a7541",
   "metadata": {},
   "outputs": [
    {
     "name": "stdout",
     "output_type": "stream",
     "text": [
      "0\n",
      "1\n",
      "2\n",
      "3\n",
      "4\n",
      "K\n",
      "a\n",
      "m\n",
      "i\n",
      "l\n"
     ]
    }
   ],
   "source": [
    "# służy do przechodzenia przez wszytskie elementy sekwencji, a sekwencja to uporządkowana\n",
    "# kolekcja obieków, np. lista, string, krotka\n",
    "\n",
    "for i in range(0, 5): # to \"i\" to nazwa, dajmey ją dwolnie jak chcemy\n",
    "    print(i)\n",
    "\n",
    "for letter in 'Kamil':\n",
    "    print(letter)"
   ]
  },
  {
   "cell_type": "markdown",
   "id": "de540b4c",
   "metadata": {},
   "source": [
    "### Instrukcje break i continue"
   ]
  },
  {
   "cell_type": "code",
   "execution_count": null,
   "id": "54e91902",
   "metadata": {},
   "outputs": [
    {
     "name": "stdout",
     "output_type": "stream",
     "text": [
      "1\n",
      "2\n",
      "3\n",
      "4\n",
      "6\n",
      "7\n",
      "8\n",
      "9\n",
      "1\n",
      "2\n",
      "3\n",
      "4\n"
     ]
    }
   ],
   "source": [
    "for i in range(1, 10):\n",
    "    if i == 5:\n",
    "        continue  # pomija resztę kodu w pętli dla i równego 5, a reszej wykonuje normalnie\n",
    "    print(i)  #Czyli continue przerywa aktualne wykonanie pętli i przechodzi do następnej iteracji\n",
    "\n",
    "for f in range(1, 10):\n",
    "    if f == 5:\n",
    "        break  # przerywa całą pętlę gdy f równe jest 5 i nie robi już dalej\n",
    "    print(f)"
   ]
  },
  {
   "cell_type": "markdown",
   "id": "64602c5a",
   "metadata": {},
   "source": [
    "### Ćwiczenie 1 - zadanie."
   ]
  },
  {
   "cell_type": "code",
   "execution_count": 1,
   "id": "68479b33",
   "metadata": {},
   "outputs": [
    {
     "name": "stdout",
     "output_type": "stream",
     "text": [
      "Liczba 4 jest parzysta.\n"
     ]
    }
   ],
   "source": [
    "#1 Zadanie - napisz program, który sprawdza czy podana liczba jest parzysta czy nieparzysta\n",
    "\n",
    "liczba = int(input(\"Podaj liczbę: \"))\n",
    "\n",
    "if liczba  % 2 == 0:\n",
    "    print(f\"Liczba {liczba} jest parzysta.\")\n",
    "else:\n",
    "    print(f\"Liczba {liczba} jest nieparzysta.\")\n",
    " \n",
    "#"
   ]
  },
  {
   "cell_type": "markdown",
   "id": "f08cedc2",
   "metadata": {},
   "source": [
    "### Ćwiczenie 2 "
   ]
  },
  {
   "cell_type": "code",
   "execution_count": null,
   "id": "116070fa",
   "metadata": {},
   "outputs": [],
   "source": [
    "# napisz program, który sprawdza czy podana przez użytkownika liczba jest większa od 0, mniejsza od 0 czy \n",
    "# równa 0 i wyświetla odpowiedni komunikat\n",
    "\n",
    "liczba = int(input(\"Podaj liczbę: \"))\n",
    "\n",
    "if liczba > 0:\n",
    "    print(f\"Liczba {liczba} jest większa od 0.\")\n",
    "elif liczba < 0:\n",
    "    print(f\"Liczba {liczba} jest mniejsza od 0.\")\n",
    "else:\n",
    "    print(f\"Liczba {liczba} jest równa 0.\")\n",
    "\n"
   ]
  },
  {
   "cell_type": "markdown",
   "id": "d8474de7",
   "metadata": {},
   "source": [
    "### Ćwiczenie 3"
   ]
  },
  {
   "cell_type": "code",
   "execution_count": 5,
   "id": "47105290",
   "metadata": {},
   "outputs": [
    {
     "name": "stdout",
     "output_type": "stream",
     "text": [
      "Podano nieprawidłową wartość\n"
     ]
    }
   ],
   "source": [
    "# Napisz program, kóry zapyta użytkownika o wynik na egzaminie (od 0 do 100) i wyświetli ocenę według następującej skali:\n",
    "# 90-100: 5\n",
    "# 80-89: 4\n",
    "# 70-79: 3\n",
    "# 60-69: 2\n",
    "# poniżej 60: 1\n",
    "\n",
    "ocena = int(input(\"Podaj wynik punktowy z egzaminu\"))\n",
    "\n",
    "if 90 <= ocena <= 100:\n",
    "\tprint(\"Dostałeś 5\")\n",
    "elif 80 <= ocena <= 89:\n",
    "\tprint(\"Dostałeś 4\")\n",
    "elif 70 <= ocena <= 79:\n",
    "\tprint(\"Dostałeś 3\")\n",
    "elif 60 <= ocena <= 69:\n",
    "\tprint(\"Dostałeś 2\")\n",
    "elif 0 <= ocena < 60:\n",
    "\tprint(\"Dostałeś 1\")\n",
    "else:\n",
    "\tprint(\"Podano nieprawidłową wartość\")"
   ]
  },
  {
   "cell_type": "markdown",
   "id": "f7e432d1",
   "metadata": {},
   "source": [
    "### Ćwiczenie 4"
   ]
  },
  {
   "cell_type": "code",
   "execution_count": null,
   "id": "556912a3",
   "metadata": {},
   "outputs": [
    {
     "name": "stdout",
     "output_type": "stream",
     "text": [
      "0\n",
      "1\n",
      "2\n",
      "3\n",
      "4\n",
      "5\n",
      "6\n",
      "7\n",
      "8\n",
      "9\n",
      "10\n",
      "11\n",
      "12\n",
      "13\n",
      "14\n",
      "15\n",
      "16\n",
      "17\n",
      "18\n",
      "19\n",
      "20\n",
      "21\n",
      "22\n",
      "23\n",
      "24\n",
      "25\n",
      "26\n",
      "27\n",
      "28\n",
      "29\n",
      "30\n",
      "31\n",
      "32\n",
      "33\n",
      "34\n",
      "35\n",
      "36\n",
      "37\n",
      "38\n",
      "39\n",
      "40\n",
      "41\n",
      "42\n",
      "43\n",
      "44\n",
      "45\n",
      "46\n",
      "47\n",
      "48\n",
      "49\n",
      "50\n",
      "51\n",
      "52\n",
      "53\n",
      "54\n",
      "55\n",
      "56\n",
      "57\n",
      "58\n",
      "59\n",
      "60\n",
      "61\n",
      "62\n",
      "63\n",
      "64\n",
      "65\n",
      "66\n",
      "67\n",
      "68\n",
      "69\n",
      "70\n",
      "71\n",
      "72\n",
      "73\n",
      "74\n",
      "75\n",
      "76\n",
      "77\n",
      "78\n",
      "79\n",
      "80\n",
      "81\n",
      "82\n",
      "83\n",
      "84\n",
      "85\n",
      "86\n",
      "87\n",
      "88\n",
      "89\n",
      "90\n",
      "91\n",
      "92\n",
      "93\n",
      "94\n",
      "95\n",
      "96\n",
      "97\n",
      "98\n",
      "99\n",
      "100\n"
     ]
    }
   ],
   "source": [
    "# Napisz program, który wyświetli liczby od 0 do 100\n",
    "for i in range(0,101):\n",
    "    print(i)"
   ]
  },
  {
   "cell_type": "markdown",
   "id": "649938ac",
   "metadata": {},
   "source": [
    "### Ćwiczenie 5"
   ]
  },
  {
   "cell_type": "code",
   "execution_count": 7,
   "id": "c7965b35",
   "metadata": {},
   "outputs": [
    {
     "name": "stdout",
     "output_type": "stream",
     "text": [
      "2\n",
      "3\n",
      "5\n",
      "7\n",
      "11\n",
      "13\n",
      "17\n",
      "19\n",
      "23\n",
      "29\n",
      "31\n",
      "37\n",
      "41\n",
      "43\n",
      "47\n",
      "53\n",
      "59\n",
      "61\n",
      "67\n",
      "71\n",
      "73\n",
      "79\n",
      "83\n",
      "89\n",
      "97\n"
     ]
    }
   ],
   "source": [
    "# Napisz program, kóry wyświetli wszytskie liczby pierwsze od 1 do 100\n",
    "\n",
    "for num in range(2,101): # bo 2 to najmniejsza liczba pierwsza\n",
    "    for j in range(2, int(num**0.5) + 1): #sprawdzamy dzielniki od 2 do pierwiastka z num\n",
    "        if num % j == 0:\n",
    "            break # jeśli znajdziemy dzielnik to przerywamy pętlę wewnętrzną\n",
    "    else:\n",
    "        print(num) # jeśli nie znaleźliśmy dzielnika to wypisujemy liczbę pierwszą\n"
   ]
  },
  {
   "cell_type": "markdown",
   "id": "131ac313",
   "metadata": {},
   "source": [
    "### Ćwiczenie 6"
   ]
  },
  {
   "cell_type": "code",
   "execution_count": 8,
   "id": "d42bf372",
   "metadata": {},
   "outputs": [
    {
     "name": "stdout",
     "output_type": "stream",
     "text": [
      "2550\n"
     ]
    }
   ],
   "source": [
    "#Napisz program, który wyświetli sumę wszytskich liczby parzystych z przedizału 1=100\n",
    "\n",
    "suma = 0\n",
    "\n",
    "for i in range(1,101):\n",
    "    if i % 2 == 0:\n",
    "        suma += i\n",
    "print(suma)"
   ]
  },
  {
   "cell_type": "markdown",
   "id": "efd9e7de",
   "metadata": {},
   "source": [
    "### Ćwiczenie 7\n"
   ]
  },
  {
   "cell_type": "code",
   "execution_count": 9,
   "id": "703afbda",
   "metadata": {},
   "outputs": [
    {
     "name": "stdout",
     "output_type": "stream",
     "text": [
      "Pole prostokąta o długości 20 i szerokości 11 wynosi 220\n"
     ]
    }
   ],
   "source": [
    "# Napisz program, który policzy pole prostokąta (Użytkownik podaje długość i szerokość)\n",
    "\n",
    "a = int(input(\"Podaj długość prostokąta:\"))\n",
    "b = int(input(\"Podaj szerokość prostokąta:\"))\n",
    "pole = a * b\n",
    "print(f\"Pole prostokąta o długości {a} i szerokości {b} wynosi {pole}\")\n"
   ]
  },
  {
   "cell_type": "markdown",
   "id": "fbabe0b5",
   "metadata": {},
   "source": [
    "### Ćwiczenie 8"
   ]
  },
  {
   "cell_type": "code",
   "execution_count": 13,
   "id": "2971530d",
   "metadata": {},
   "outputs": [
    {
     "name": "stdout",
     "output_type": "stream",
     "text": [
      "Grzegorz to imię męskie.\n"
     ]
    }
   ],
   "source": [
    "# Napisz program, który sprawdzi czy podane imię jest imieniem męskim czy żeńskim (załóż, że imiona żeńske\n",
    "# kończą się na literę a)\n",
    "\n",
    "imie = input(\"Podaj imię: \")\n",
    "if imie.endswith('a'):\n",
    "    print(f\"{imie} to imię żeńskie.\")\n",
    "else:\n",
    "    print(f\"{imie} to imię męskie.\")\n"
   ]
  },
  {
   "cell_type": "markdown",
   "id": "bdd421e3",
   "metadata": {},
   "source": [
    "### Ćwiczenie 9"
   ]
  },
  {
   "cell_type": "code",
   "execution_count": 14,
   "id": "0705a0ff",
   "metadata": {},
   "outputs": [
    {
     "name": "stdout",
     "output_type": "stream",
     "text": [
      "Liczby w kolejności od najmniejszej do największej: [12, 33, 54535435]\n"
     ]
    }
   ],
   "source": [
    "### Pobierz od użytkownika trzy liczby całkowite i uporządkuj je w kolejności od najmniejszej do największej\n",
    "\n",
    "num1 = int(input(\"Podaj pierwszą liczbę: \"))\n",
    "num2 = int(input(\"Podaj drugą liczbę: \"))\n",
    "num3 = int(input(\"Podaj trzecią liczbę: \"))\n",
    "numbers = [num1, num2, num3]\n",
    "numbers.sort()\n",
    "print(\"Liczby w kolejności od najmniejszej do największej:\", numbers)\n"
   ]
  },
  {
   "cell_type": "markdown",
   "id": "7ac7f80b",
   "metadata": {},
   "source": [
    "### Ćwiczenie 10"
   ]
  },
  {
   "cell_type": "code",
   "execution_count": 5,
   "id": "82fbac28",
   "metadata": {},
   "outputs": [
    {
     "name": "stdout",
     "output_type": "stream",
     "text": [
      "Liczba 50 jest większa.\n",
      "Gratulacje! Odgadłeś liczbę:  60\n"
     ]
    }
   ],
   "source": [
    "#Stwórz grę, w krótej wylosujesz liczbę z przedziału 1-100, zapiszesz tę liczbę od zmiennej, a następnie\n",
    "#poprosisz użytkownika o odgadnięcie tej liczby. Po każdej próbie wyświetlaj informację, czy liczba podana przez\n",
    "#użytkownika jest mniejsza czy większa od wylosowanej. Gdy użytkownik odgadnie liczbę, zakończ grę\n",
    "#Dodatkowwe zadanie (w ramach tego ćwiczenia): Znajdź informację, w jaki spośób losować liczby całkowite w Pythonie\n",
    "\n",
    "import random\n",
    "\n",
    "wylosowana_liczba = random.randint(1,100)  # losowanie liczby z przedziału 1-100\n",
    "odgadnieta = False\n",
    "\n",
    "while not odgadnieta:\n",
    "    próba = int(input(\"Odgadnij liczbę od 1 do 100: \"))\n",
    "    if próba < wylosowana_liczba:\n",
    "        print(f\"Liczba {próba} jest większa.\")\n",
    "    elif próba > wylosowana_liczba:\n",
    "        print(f\"Liczba {próba} jest mniejsza.\")\n",
    "    else:\n",
    "        print(f\"Gratulacje! Odgadłeś liczbę: \", wylosowana_liczba)\n",
    "        odgadnieta = True\n"
   ]
  },
  {
   "cell_type": "code",
   "execution_count": null,
   "id": "ca4451c1",
   "metadata": {},
   "outputs": [],
   "source": [
    "print(\"Koniec gry.\")"
   ]
  }
 ],
 "metadata": {
  "kernelspec": {
   "display_name": ".venv",
   "language": "python",
   "name": "python3"
  },
  "language_info": {
   "codemirror_mode": {
    "name": "ipython",
    "version": 3
   },
   "file_extension": ".py",
   "mimetype": "text/x-python",
   "name": "python",
   "nbconvert_exporter": "python",
   "pygments_lexer": "ipython3",
   "version": "3.12.4"
  }
 },
 "nbformat": 4,
 "nbformat_minor": 5
}
